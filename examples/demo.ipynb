{
 "cells": [
  {
   "metadata": {},
   "cell_type": "markdown",
   "source": "## Evaluate retrieval models on R2MED ##",
   "id": "380e0cba0792679e"
  },
  {
   "metadata": {},
   "cell_type": "code",
   "outputs": [],
   "execution_count": null,
   "source": [
    "cd '/R2MED/src/'\n",
    "!python run.py --mode eval_retrieval --task All --retriever_name bge"
   ],
   "id": "ba0c642cacf7e8df"
  },
  {
   "metadata": {},
   "cell_type": "markdown",
   "source": "",
   "id": "f082009ce3a452fd"
  },
  {
   "metadata": {},
   "cell_type": "markdown",
   "source": "## Evaluate reranker models on R2MED ##",
   "id": "631efa151a11262"
  },
  {
   "metadata": {},
   "cell_type": "code",
   "outputs": [],
   "execution_count": null,
   "source": "!python run.py --mode eval_reranker --task All --retriever_name bge --reranker_name bge-reranker --recall_k 10",
   "id": "90e7b6077b4d6207"
  },
  {
   "metadata": {},
   "cell_type": "markdown",
   "source": "## Generate hypothetical documents for R2MED ##",
   "id": "b047121fdb7919d6"
  },
  {
   "metadata": {},
   "cell_type": "code",
   "outputs": [],
   "execution_count": null,
   "source": "!python run.py --mode generate_hydoc --task All --gar_method hyde --gar_llm qwen-7b",
   "id": "194ae630444857fb"
  }
 ],
 "metadata": {
  "kernelspec": {
   "display_name": "Python 3",
   "language": "python",
   "name": "python3"
  },
  "language_info": {
   "codemirror_mode": {
    "name": "ipython",
    "version": 2
   },
   "file_extension": ".py",
   "mimetype": "text/x-python",
   "name": "python",
   "nbconvert_exporter": "python",
   "pygments_lexer": "ipython2",
   "version": "2.7.6"
  }
 },
 "nbformat": 4,
 "nbformat_minor": 5
}
